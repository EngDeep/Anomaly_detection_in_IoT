{
 "cells": [
  {
   "cell_type": "markdown",
   "metadata": {},
   "source": [
    "### 1. Decision Tree"
   ]
  },
  {
   "cell_type": "code",
   "execution_count": 1,
   "metadata": {},
   "outputs": [],
   "source": [
    "import pandas as pd\n",
    "from sklearn.preprocessing import label_binarize\n",
    "from sklearn.model_selection import train_test_split\n",
    "from sklearn.model_selection import cross_val_score\n",
    "from sklearn import tree\n",
    "from sklearn.model_selection import GridSearchCV\n",
    "from sklearn.metrics import classification_report"
   ]
  },
  {
   "cell_type": "code",
   "execution_count": 2,
   "metadata": {},
   "outputs": [
    {
     "data": {
      "text/html": [
       "<div>\n",
       "<style scoped>\n",
       "    .dataframe tbody tr th:only-of-type {\n",
       "        vertical-align: middle;\n",
       "    }\n",
       "\n",
       "    .dataframe tbody tr th {\n",
       "        vertical-align: top;\n",
       "    }\n",
       "\n",
       "    .dataframe thead th {\n",
       "        text-align: right;\n",
       "    }\n",
       "</style>\n",
       "<table border=\"1\" class=\"dataframe\">\n",
       "  <thead>\n",
       "    <tr style=\"text-align: right;\">\n",
       "      <th></th>\n",
       "      <th>0</th>\n",
       "      <th>1</th>\n",
       "      <th>2</th>\n",
       "      <th>3</th>\n",
       "      <th>4</th>\n",
       "      <th>5</th>\n",
       "      <th>6</th>\n",
       "      <th>7</th>\n",
       "      <th>8</th>\n",
       "      <th>9</th>\n",
       "      <th>10</th>\n",
       "      <th>11</th>\n",
       "    </tr>\n",
       "  </thead>\n",
       "  <tbody>\n",
       "    <tr>\n",
       "      <td>0</td>\n",
       "      <td>7.0</td>\n",
       "      <td>21.0</td>\n",
       "      <td>30.0</td>\n",
       "      <td>2.0</td>\n",
       "      <td>3.0</td>\n",
       "      <td>30.0</td>\n",
       "      <td>2.0</td>\n",
       "      <td>3.0</td>\n",
       "      <td>59.0</td>\n",
       "      <td>7.0</td>\n",
       "      <td>2.0</td>\n",
       "      <td>0.0000</td>\n",
       "    </tr>\n",
       "    <tr>\n",
       "      <td>1</td>\n",
       "      <td>7.0</td>\n",
       "      <td>32.0</td>\n",
       "      <td>70.0</td>\n",
       "      <td>2.0</td>\n",
       "      <td>4.0</td>\n",
       "      <td>68.0</td>\n",
       "      <td>2.0</td>\n",
       "      <td>4.0</td>\n",
       "      <td>134.0</td>\n",
       "      <td>7.0</td>\n",
       "      <td>2.0</td>\n",
       "      <td>0.0000</td>\n",
       "    </tr>\n",
       "    <tr>\n",
       "      <td>2</td>\n",
       "      <td>7.0</td>\n",
       "      <td>15.0</td>\n",
       "      <td>1.0</td>\n",
       "      <td>2.0</td>\n",
       "      <td>2.0</td>\n",
       "      <td>0.0</td>\n",
       "      <td>2.0</td>\n",
       "      <td>2.0</td>\n",
       "      <td>0.0</td>\n",
       "      <td>7.0</td>\n",
       "      <td>2.0</td>\n",
       "      <td>0.0000</td>\n",
       "    </tr>\n",
       "    <tr>\n",
       "      <td>3</td>\n",
       "      <td>7.0</td>\n",
       "      <td>33.0</td>\n",
       "      <td>77.0</td>\n",
       "      <td>2.0</td>\n",
       "      <td>7.0</td>\n",
       "      <td>73.0</td>\n",
       "      <td>2.0</td>\n",
       "      <td>7.0</td>\n",
       "      <td>144.0</td>\n",
       "      <td>7.0</td>\n",
       "      <td>2.0</td>\n",
       "      <td>0.0000</td>\n",
       "    </tr>\n",
       "    <tr>\n",
       "      <td>4</td>\n",
       "      <td>7.0</td>\n",
       "      <td>55.0</td>\n",
       "      <td>78.0</td>\n",
       "      <td>3.0</td>\n",
       "      <td>7.0</td>\n",
       "      <td>74.0</td>\n",
       "      <td>3.0</td>\n",
       "      <td>7.0</td>\n",
       "      <td>146.0</td>\n",
       "      <td>8.0</td>\n",
       "      <td>2.0</td>\n",
       "      <td>0.0000</td>\n",
       "    </tr>\n",
       "    <tr>\n",
       "      <td>...</td>\n",
       "      <td>...</td>\n",
       "      <td>...</td>\n",
       "      <td>...</td>\n",
       "      <td>...</td>\n",
       "      <td>...</td>\n",
       "      <td>...</td>\n",
       "      <td>...</td>\n",
       "      <td>...</td>\n",
       "      <td>...</td>\n",
       "      <td>...</td>\n",
       "      <td>...</td>\n",
       "      <td>...</td>\n",
       "    </tr>\n",
       "    <tr>\n",
       "      <td>357916</td>\n",
       "      <td>7.0</td>\n",
       "      <td>32.0</td>\n",
       "      <td>70.0</td>\n",
       "      <td>2.0</td>\n",
       "      <td>4.0</td>\n",
       "      <td>69.0</td>\n",
       "      <td>3.0</td>\n",
       "      <td>4.0</td>\n",
       "      <td>138.0</td>\n",
       "      <td>5.0</td>\n",
       "      <td>1.0</td>\n",
       "      <td>1.0000</td>\n",
       "    </tr>\n",
       "    <tr>\n",
       "      <td>357917</td>\n",
       "      <td>7.0</td>\n",
       "      <td>17.0</td>\n",
       "      <td>11.0</td>\n",
       "      <td>2.0</td>\n",
       "      <td>10.0</td>\n",
       "      <td>12.0</td>\n",
       "      <td>4.0</td>\n",
       "      <td>10.0</td>\n",
       "      <td>25.0</td>\n",
       "      <td>9.0</td>\n",
       "      <td>1.0</td>\n",
       "      <td>20.1772</td>\n",
       "    </tr>\n",
       "    <tr>\n",
       "      <td>357918</td>\n",
       "      <td>7.0</td>\n",
       "      <td>2.0</td>\n",
       "      <td>75.0</td>\n",
       "      <td>0.0</td>\n",
       "      <td>7.0</td>\n",
       "      <td>72.0</td>\n",
       "      <td>0.0</td>\n",
       "      <td>7.0</td>\n",
       "      <td>142.0</td>\n",
       "      <td>2.0</td>\n",
       "      <td>1.0</td>\n",
       "      <td>10.0000</td>\n",
       "    </tr>\n",
       "    <tr>\n",
       "      <td>357919</td>\n",
       "      <td>7.0</td>\n",
       "      <td>26.0</td>\n",
       "      <td>49.0</td>\n",
       "      <td>2.0</td>\n",
       "      <td>16.0</td>\n",
       "      <td>49.0</td>\n",
       "      <td>4.0</td>\n",
       "      <td>16.0</td>\n",
       "      <td>98.0</td>\n",
       "      <td>9.0</td>\n",
       "      <td>1.0</td>\n",
       "      <td>20.0950</td>\n",
       "    </tr>\n",
       "    <tr>\n",
       "      <td>357920</td>\n",
       "      <td>7.0</td>\n",
       "      <td>27.0</td>\n",
       "      <td>53.0</td>\n",
       "      <td>2.0</td>\n",
       "      <td>17.0</td>\n",
       "      <td>52.0</td>\n",
       "      <td>3.0</td>\n",
       "      <td>17.0</td>\n",
       "      <td>104.0</td>\n",
       "      <td>5.0</td>\n",
       "      <td>1.0</td>\n",
       "      <td>1.0000</td>\n",
       "    </tr>\n",
       "  </tbody>\n",
       "</table>\n",
       "<p>357921 rows × 12 columns</p>\n",
       "</div>"
      ],
      "text/plain": [
       "          0     1     2    3     4     5    6     7      8    9   10       11\n",
       "0       7.0  21.0  30.0  2.0   3.0  30.0  2.0   3.0   59.0  7.0  2.0   0.0000\n",
       "1       7.0  32.0  70.0  2.0   4.0  68.0  2.0   4.0  134.0  7.0  2.0   0.0000\n",
       "2       7.0  15.0   1.0  2.0   2.0   0.0  2.0   2.0    0.0  7.0  2.0   0.0000\n",
       "3       7.0  33.0  77.0  2.0   7.0  73.0  2.0   7.0  144.0  7.0  2.0   0.0000\n",
       "4       7.0  55.0  78.0  3.0   7.0  74.0  3.0   7.0  146.0  8.0  2.0   0.0000\n",
       "...     ...   ...   ...  ...   ...   ...  ...   ...    ...  ...  ...      ...\n",
       "357916  7.0  32.0  70.0  2.0   4.0  69.0  3.0   4.0  138.0  5.0  1.0   1.0000\n",
       "357917  7.0  17.0  11.0  2.0  10.0  12.0  4.0  10.0   25.0  9.0  1.0  20.1772\n",
       "357918  7.0   2.0  75.0  0.0   7.0  72.0  0.0   7.0  142.0  2.0  1.0  10.0000\n",
       "357919  7.0  26.0  49.0  2.0  16.0  49.0  4.0  16.0   98.0  9.0  1.0  20.0950\n",
       "357920  7.0  27.0  53.0  2.0  17.0  52.0  3.0  17.0  104.0  5.0  1.0   1.0000\n",
       "\n",
       "[357921 rows x 12 columns]"
      ]
     },
     "execution_count": 2,
     "metadata": {},
     "output_type": "execute_result"
    }
   ],
   "source": [
    "data = pd.read_csv('df_next.csv')\n",
    "data = data.drop(columns=\"Unnamed: 0\")\n",
    "data.head(-20)"
   ]
  },
  {
   "cell_type": "code",
   "execution_count": 3,
   "metadata": {},
   "outputs": [
    {
     "data": {
      "text/plain": [
       "array([[0, 0, 0, ..., 0, 0, 1],\n",
       "       [0, 0, 0, ..., 0, 0, 1],\n",
       "       [0, 0, 0, ..., 0, 0, 1],\n",
       "       ...,\n",
       "       [0, 0, 0, ..., 0, 0, 1],\n",
       "       [0, 0, 0, ..., 0, 0, 1],\n",
       "       [0, 0, 0, ..., 0, 0, 1]])"
      ]
     },
     "execution_count": 3,
     "metadata": {},
     "output_type": "execute_result"
    }
   ],
   "source": [
    "y = data.iloc[:,0].values\n",
    "X = data.iloc[:,1:].values\n",
    "y = label_binarize(y, classes=[0, 1, 2, 3, 4, 5, 6, 7])\n",
    "classes = y.shape[1]\n",
    "y"
   ]
  },
  {
   "cell_type": "code",
   "execution_count": 4,
   "metadata": {},
   "outputs": [
    {
     "name": "stdout",
     "output_type": "stream",
     "text": [
      "Shape_train: (239820, 11) \n",
      "Shape_test:  (118121, 11)\n"
     ]
    }
   ],
   "source": [
    "X_train, X_test, y_train, y_test = train_test_split(X,y, test_size=0.33, random_state = 42)\n",
    "print(\"Shape_train:\", X_train.shape, \"\\n\"\n",
    "      \"Shape_test: \", X_test.shape)"
   ]
  },
  {
   "cell_type": "code",
   "execution_count": 5,
   "metadata": {},
   "outputs": [],
   "source": [
    "parametrs = {'criterion': ['gini', 'entropy'], 'max_depth': range(1, 16)}\n",
    "scores = ['f1']"
   ]
  },
  {
   "cell_type": "code",
   "execution_count": 6,
   "metadata": {},
   "outputs": [
    {
     "name": "stdout",
     "output_type": "stream",
     "text": [
      "# Tuning hyper-parameters for f1\n",
      "\n",
      "Best parameters:\n",
      "\n",
      "{'criterion': 'gini', 'max_depth': 14}\n",
      "\n",
      "Grid scores:\n",
      "\n",
      "0.977 (+/-0.001) for {'criterion': 'gini', 'max_depth': 1}\n",
      "0.977 (+/-0.001) for {'criterion': 'gini', 'max_depth': 2}\n",
      "0.977 (+/-0.001) for {'criterion': 'gini', 'max_depth': 3}\n",
      "0.983 (+/-0.001) for {'criterion': 'gini', 'max_depth': 4}\n",
      "0.984 (+/-0.001) for {'criterion': 'gini', 'max_depth': 5}\n",
      "0.984 (+/-0.001) for {'criterion': 'gini', 'max_depth': 6}\n",
      "0.984 (+/-0.001) for {'criterion': 'gini', 'max_depth': 7}\n",
      "0.984 (+/-0.002) for {'criterion': 'gini', 'max_depth': 8}\n",
      "0.990 (+/-0.002) for {'criterion': 'gini', 'max_depth': 9}\n",
      "0.992 (+/-0.000) for {'criterion': 'gini', 'max_depth': 10}\n",
      "0.993 (+/-0.000) for {'criterion': 'gini', 'max_depth': 11}\n",
      "0.994 (+/-0.000) for {'criterion': 'gini', 'max_depth': 12}\n",
      "0.994 (+/-0.000) for {'criterion': 'gini', 'max_depth': 13}\n",
      "0.994 (+/-0.000) for {'criterion': 'gini', 'max_depth': 14}\n",
      "0.994 (+/-0.000) for {'criterion': 'gini', 'max_depth': 15}\n",
      "0.977 (+/-0.001) for {'criterion': 'entropy', 'max_depth': 1}\n",
      "0.977 (+/-0.001) for {'criterion': 'entropy', 'max_depth': 2}\n",
      "0.977 (+/-0.001) for {'criterion': 'entropy', 'max_depth': 3}\n",
      "0.983 (+/-0.000) for {'criterion': 'entropy', 'max_depth': 4}\n",
      "0.982 (+/-0.000) for {'criterion': 'entropy', 'max_depth': 5}\n",
      "0.985 (+/-0.000) for {'criterion': 'entropy', 'max_depth': 6}\n",
      "0.991 (+/-0.001) for {'criterion': 'entropy', 'max_depth': 7}\n",
      "0.994 (+/-0.000) for {'criterion': 'entropy', 'max_depth': 8}\n",
      "0.994 (+/-0.000) for {'criterion': 'entropy', 'max_depth': 9}\n",
      "0.994 (+/-0.000) for {'criterion': 'entropy', 'max_depth': 10}\n",
      "0.994 (+/-0.000) for {'criterion': 'entropy', 'max_depth': 11}\n",
      "0.994 (+/-0.000) for {'criterion': 'entropy', 'max_depth': 12}\n",
      "0.994 (+/-0.000) for {'criterion': 'entropy', 'max_depth': 13}\n",
      "0.994 (+/-0.000) for {'criterion': 'entropy', 'max_depth': 14}\n",
      "0.994 (+/-0.000) for {'criterion': 'entropy', 'max_depth': 15}\n",
      "\n",
      "                     precision    recall  f1-score   support\n",
      "\n",
      "             Normal       1.00      0.64      0.78      3851\n",
      "                DoS       1.00      1.00      1.00       232\n",
      "               Scan       1.00      1.00      1.00       595\n",
      "  Malitious_control       1.00      1.00      1.00       542\n",
      "Malitious_operation       1.00      1.00      1.00      1044\n",
      "             Spying       1.00      1.00      1.00       357\n",
      "       Data_probing       1.00      1.00      1.00        87\n",
      "        Wrong_SetUp       0.99      1.00      1.00    233112\n",
      "\n",
      "          micro avg       0.99      0.99      0.99    239820\n",
      "          macro avg       1.00      0.96      0.97    239820\n",
      "       weighted avg       0.99      0.99      0.99    239820\n",
      "        samples avg       0.99      0.99      0.99    239820\n",
      "\n",
      "                     precision    recall  f1-score   support\n",
      "\n",
      "             Normal       1.00      0.67      0.80      1929\n",
      "                DoS       1.00      1.00      1.00       110\n",
      "               Scan       1.00      1.00      1.00       294\n",
      "  Malitious_control       1.00      1.00      1.00       263\n",
      "Malitious_operation       1.00      1.00      1.00       503\n",
      "             Spying       1.00      1.00      1.00       175\n",
      "       Data_probing       1.00      1.00      1.00        35\n",
      "        Wrong_SetUp       0.99      1.00      1.00    114812\n",
      "\n",
      "          micro avg       0.99      0.99      0.99    118121\n",
      "          macro avg       1.00      0.96      0.98    118121\n",
      "       weighted avg       0.99      0.99      0.99    118121\n",
      "        samples avg       0.99      0.99      0.99    118121\n",
      "\n",
      "DecisionTreeClassifier_bestPar:  DecisionTreeClassifier(class_weight=None, criterion='gini', max_depth=14,\n",
      "                       max_features=None, max_leaf_nodes=None,\n",
      "                       min_impurity_decrease=0.0, min_impurity_split=None,\n",
      "                       min_samples_leaf=1, min_samples_split=2,\n",
      "                       min_weight_fraction_leaf=0.0, presort=False,\n",
      "                       random_state=None, splitter='best')\n"
     ]
    }
   ],
   "source": [
    "for score in scores:\n",
    "    print(\"# Tuning hyper-parameters for %s\" % score)\n",
    "    print()\n",
    "    \n",
    "    clf = tree.DecisionTreeClassifier()\n",
    "    grid_search_cv_clf = GridSearchCV(clf, parametrs, cv=5)\n",
    "    grid_search_cv_clf.fit(X_train, y_train)\n",
    "\n",
    "    print(\"Best parameters:\")\n",
    "    print()\n",
    "    print(grid_search_cv_clf.best_params_)\n",
    "    print()\n",
    "    print(\"Grid scores:\")\n",
    "    print()\n",
    "    means = grid_search_cv_clf.cv_results_['mean_test_score']\n",
    "    stds = grid_search_cv_clf.cv_results_['std_test_score']\n",
    "    \n",
    "    for mean, std, params in zip(means, stds, grid_search_cv_clf.cv_results_['params']):\n",
    "        print(\"%0.3f (+/-%0.03f) for %r\"\n",
    "              % (mean, std * 2, params))\n",
    "    print()\n",
    "\n",
    "    y_true, y_pred_test = y_test, grid_search_cv_clf.predict(X_test)\n",
    "    best_clf = grid_search_cv_clf.best_estimator_\n",
    "    y_pred_train = best_clf.predict(X_train)\n",
    "    y_pred_test = best_clf.predict(X_test)\n",
    "    \n",
    "    target_names = ['Normal', 'DoS', 'Scan', 'Malitious_control', 'Malitious_operation',\n",
    "                'Spying', 'Data_probing', 'Wrong_SetUp']\n",
    "    print(classification_report(y_train, y_pred_train, target_names=target_names))\n",
    "    print(classification_report(y_test, y_pred_test, target_names=target_names))\n",
    "    print(\"DecisionTreeClassifier_bestPar: \", best_clf)"
   ]
  },
  {
   "cell_type": "markdown",
   "metadata": {},
   "source": [
    "##### Confusion matrix multiclass(Decision Tree)"
   ]
  },
  {
   "cell_type": "code",
   "execution_count": 7,
   "metadata": {},
   "outputs": [],
   "source": [
    "import numpy as np\n",
    "import matplotlib.pyplot as plt\n",
    "from itertools import cycle\n",
    "from scipy import interp\n",
    "from sklearn.metrics import confusion_matrix, matthews_corrcoef\n",
    "import itertools\n",
    "import seaborn as sn"
   ]
  },
  {
   "cell_type": "code",
   "execution_count": 8,
   "metadata": {},
   "outputs": [],
   "source": [
    "confusion_m = confusion_matrix(y_test.argmax(axis=1), y_pred_test.argmax(axis=1))\n",
    "\n",
    "def confusion_matrix(confusion_m, classes,\n",
    "                          normalize=False,\n",
    "                          title=' ',\n",
    "                          cmap=plt.cm.BuPu):\n",
    "\n",
    "    if normalize:\n",
    "        confusion_m = confusion_m.astype('float') / confusion_m.sum(axis=1)[:, np.newaxis]\n",
    "        print(\"Confusion matrix (Normalized)\")\n",
    "    else:\n",
    "        print('Confusion matrix (without_normalization)')\n",
    "\n",
    "    print(confusion_m)\n",
    "\n",
    "    plt.imshow(confusion_m, interpolation='nearest', cmap=cmap)\n",
    "    plt.title(title)\n",
    "    tick_marks = np.arange(len(classes))\n",
    "    plt.xticks(tick_marks, classes, rotation=45)\n",
    "    plt.yticks(tick_marks, classes)\n",
    "\n",
    "    fmt = '.2f' if normalize else 'd'\n",
    "    thresh = confusion_m.max() / 2.\n",
    "    for i, j in itertools.product(range(confusion_m.shape[0]), range(confusion_m.shape[1])):\n",
    "        plt.text(j, i, format(confusion_m[i, j], fmt),\n",
    "                 horizontalalignment=\"center\",\n",
    "                 color=\"white\" if confusion_m[i, j] > thresh else \"black\")\n",
    "\n",
    "    plt.ylabel('True label')\n",
    "    plt.xlabel('Predicted label')\n",
    "    plt.tight_layout()"
   ]
  },
  {
   "cell_type": "code",
   "execution_count": 9,
   "metadata": {},
   "outputs": [
    {
     "name": "stdout",
     "output_type": "stream",
     "text": [
      "Confusion matrix (without_normalization)\n",
      "[[  1298      0      0      0      0      0      0    631]\n",
      " [     0    110      0      0      0      0      0      0]\n",
      " [     0      0    294      0      0      0      0      0]\n",
      " [     0      0      0    263      0      0      0      0]\n",
      " [     0      0      0      0    503      0      0      0]\n",
      " [     0      0      0      0      0    175      0      0]\n",
      " [     0      0      0      0      0      0     35      0]\n",
      " [     0      0      0      0      0      0      0 114812]]\n"
     ]
    },
    {
     "data": {
      "image/png": "[encoded data removed]",
      "text/plain": [
       "<Figure size 576x576 with 1 Axes>"
      ]
     },
     "metadata": {
      "needs_background": "light"
     },
     "output_type": "display_data"
    }
   ],
   "source": [
    "plt.figure(figsize = (8,8))\n",
    "sn.set(font_scale=1.1)\n",
    "\n",
    "confusion_matrix(confusion_m,['DoS', 'Data_p', 'Mal_с', 'Mal_o', 'Scan', 'Spy', 'Wrong_S', 'Normal'])\n",
    "plt.show()"
   ]
  },
  {
   "cell_type": "markdown",
   "metadata": {},
   "source": [
    "##### Matthews correlation coefficient (DT)"
   ]
  },
  {
   "cell_type": "code",
   "execution_count": 10,
   "metadata": {},
   "outputs": [
    {
     "data": {
      "text/plain": [
       "0.8905749509421382"
      ]
     },
     "execution_count": 10,
     "metadata": {},
     "output_type": "execute_result"
    }
   ],
   "source": [
    "matthews_corrcoef(y_train.argmax(axis=1), y_pred_train.argmax(axis=1))"
   ]
  },
  {
   "cell_type": "code",
   "execution_count": 11,
   "metadata": {},
   "outputs": [
    {
     "data": {
      "text/plain": [
       "0.8981080244776118"
      ]
     },
     "execution_count": 11,
     "metadata": {},
     "output_type": "execute_result"
    }
   ],
   "source": [
    "matthews_corrcoef(y_test.argmax(axis=1), y_pred_test.argmax(axis=1))"
   ]
  }
 ],
 "metadata": {
  "kernelspec": {
   "display_name": "Python 3",
   "language": "python",
   "name": "python3"
  },
  "language_info": {
   "codemirror_mode": {
    "name": "ipython",
    "version": 3
   },
   "file_extension": ".py",
   "mimetype": "text/x-python",
   "name": "python",
   "nbconvert_exporter": "python",
   "pygments_lexer": "ipython3",
   "version": "3.7.4"
  }
 },
 "nbformat": 4,
 "nbformat_minor": 2
}
