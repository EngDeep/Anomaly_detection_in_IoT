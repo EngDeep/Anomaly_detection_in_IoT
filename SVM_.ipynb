{
 "cells": [
  {
   "cell_type": "markdown",
   "metadata": {},
   "source": [
    "### 4. Support Vector Machine"
   ]
  },
  {
   "cell_type": "code",
   "execution_count": 12,
   "metadata": {},
   "outputs": [],
   "source": [
    "import pandas as pd\n",
    "from sklearn import svm\n",
    "from sklearn.svm import LinearSVC\n",
    "from sklearn.preprocessing import label_binarize, StandardScaler\n",
    "from sklearn.model_selection import train_test_split\n",
    "from sklearn.multiclass import OneVsRestClassifier\n",
    "from sklearn.pipeline import Pipeline\n",
    "import warnings\n",
    "\n",
    "warnings.filterwarnings('ignore')"
   ]
  },
  {
   "cell_type": "code",
   "execution_count": 13,
   "metadata": {},
   "outputs": [
    {
     "data": {
      "text/html": [
       "<div>\n",
       "<style scoped>\n",
       "    .dataframe tbody tr th:only-of-type {\n",
       "        vertical-align: middle;\n",
       "    }\n",
       "\n",
       "    .dataframe tbody tr th {\n",
       "        vertical-align: top;\n",
       "    }\n",
       "\n",
       "    .dataframe thead th {\n",
       "        text-align: right;\n",
       "    }\n",
       "</style>\n",
       "<table border=\"1\" class=\"dataframe\">\n",
       "  <thead>\n",
       "    <tr style=\"text-align: right;\">\n",
       "      <th></th>\n",
       "      <th>0</th>\n",
       "      <th>1</th>\n",
       "      <th>2</th>\n",
       "      <th>3</th>\n",
       "      <th>4</th>\n",
       "      <th>5</th>\n",
       "      <th>6</th>\n",
       "      <th>7</th>\n",
       "      <th>8</th>\n",
       "      <th>9</th>\n",
       "      <th>10</th>\n",
       "      <th>11</th>\n",
       "    </tr>\n",
       "  </thead>\n",
       "  <tbody>\n",
       "    <tr>\n",
       "      <td>0</td>\n",
       "      <td>7.0</td>\n",
       "      <td>21.0</td>\n",
       "      <td>30.0</td>\n",
       "      <td>2.0</td>\n",
       "      <td>3.0</td>\n",
       "      <td>30.0</td>\n",
       "      <td>2.0</td>\n",
       "      <td>3.0</td>\n",
       "      <td>59.0</td>\n",
       "      <td>7.0</td>\n",
       "      <td>2.0</td>\n",
       "      <td>0.0000</td>\n",
       "    </tr>\n",
       "    <tr>\n",
       "      <td>1</td>\n",
       "      <td>7.0</td>\n",
       "      <td>32.0</td>\n",
       "      <td>70.0</td>\n",
       "      <td>2.0</td>\n",
       "      <td>4.0</td>\n",
       "      <td>68.0</td>\n",
       "      <td>2.0</td>\n",
       "      <td>4.0</td>\n",
       "      <td>134.0</td>\n",
       "      <td>7.0</td>\n",
       "      <td>2.0</td>\n",
       "      <td>0.0000</td>\n",
       "    </tr>\n",
       "    <tr>\n",
       "      <td>2</td>\n",
       "      <td>7.0</td>\n",
       "      <td>15.0</td>\n",
       "      <td>1.0</td>\n",
       "      <td>2.0</td>\n",
       "      <td>2.0</td>\n",
       "      <td>0.0</td>\n",
       "      <td>2.0</td>\n",
       "      <td>2.0</td>\n",
       "      <td>0.0</td>\n",
       "      <td>7.0</td>\n",
       "      <td>2.0</td>\n",
       "      <td>0.0000</td>\n",
       "    </tr>\n",
       "    <tr>\n",
       "      <td>3</td>\n",
       "      <td>7.0</td>\n",
       "      <td>33.0</td>\n",
       "      <td>77.0</td>\n",
       "      <td>2.0</td>\n",
       "      <td>7.0</td>\n",
       "      <td>73.0</td>\n",
       "      <td>2.0</td>\n",
       "      <td>7.0</td>\n",
       "      <td>144.0</td>\n",
       "      <td>7.0</td>\n",
       "      <td>2.0</td>\n",
       "      <td>0.0000</td>\n",
       "    </tr>\n",
       "    <tr>\n",
       "      <td>4</td>\n",
       "      <td>7.0</td>\n",
       "      <td>55.0</td>\n",
       "      <td>78.0</td>\n",
       "      <td>3.0</td>\n",
       "      <td>7.0</td>\n",
       "      <td>74.0</td>\n",
       "      <td>3.0</td>\n",
       "      <td>7.0</td>\n",
       "      <td>146.0</td>\n",
       "      <td>8.0</td>\n",
       "      <td>2.0</td>\n",
       "      <td>0.0000</td>\n",
       "    </tr>\n",
       "    <tr>\n",
       "      <td>...</td>\n",
       "      <td>...</td>\n",
       "      <td>...</td>\n",
       "      <td>...</td>\n",
       "      <td>...</td>\n",
       "      <td>...</td>\n",
       "      <td>...</td>\n",
       "      <td>...</td>\n",
       "      <td>...</td>\n",
       "      <td>...</td>\n",
       "      <td>...</td>\n",
       "      <td>...</td>\n",
       "      <td>...</td>\n",
       "    </tr>\n",
       "    <tr>\n",
       "      <td>357916</td>\n",
       "      <td>7.0</td>\n",
       "      <td>32.0</td>\n",
       "      <td>70.0</td>\n",
       "      <td>2.0</td>\n",
       "      <td>4.0</td>\n",
       "      <td>69.0</td>\n",
       "      <td>3.0</td>\n",
       "      <td>4.0</td>\n",
       "      <td>138.0</td>\n",
       "      <td>5.0</td>\n",
       "      <td>1.0</td>\n",
       "      <td>1.0000</td>\n",
       "    </tr>\n",
       "    <tr>\n",
       "      <td>357917</td>\n",
       "      <td>7.0</td>\n",
       "      <td>17.0</td>\n",
       "      <td>11.0</td>\n",
       "      <td>2.0</td>\n",
       "      <td>10.0</td>\n",
       "      <td>12.0</td>\n",
       "      <td>4.0</td>\n",
       "      <td>10.0</td>\n",
       "      <td>25.0</td>\n",
       "      <td>9.0</td>\n",
       "      <td>1.0</td>\n",
       "      <td>20.1772</td>\n",
       "    </tr>\n",
       "    <tr>\n",
       "      <td>357918</td>\n",
       "      <td>7.0</td>\n",
       "      <td>2.0</td>\n",
       "      <td>75.0</td>\n",
       "      <td>0.0</td>\n",
       "      <td>7.0</td>\n",
       "      <td>72.0</td>\n",
       "      <td>0.0</td>\n",
       "      <td>7.0</td>\n",
       "      <td>142.0</td>\n",
       "      <td>2.0</td>\n",
       "      <td>1.0</td>\n",
       "      <td>10.0000</td>\n",
       "    </tr>\n",
       "    <tr>\n",
       "      <td>357919</td>\n",
       "      <td>7.0</td>\n",
       "      <td>26.0</td>\n",
       "      <td>49.0</td>\n",
       "      <td>2.0</td>\n",
       "      <td>16.0</td>\n",
       "      <td>49.0</td>\n",
       "      <td>4.0</td>\n",
       "      <td>16.0</td>\n",
       "      <td>98.0</td>\n",
       "      <td>9.0</td>\n",
       "      <td>1.0</td>\n",
       "      <td>20.0950</td>\n",
       "    </tr>\n",
       "    <tr>\n",
       "      <td>357920</td>\n",
       "      <td>7.0</td>\n",
       "      <td>27.0</td>\n",
       "      <td>53.0</td>\n",
       "      <td>2.0</td>\n",
       "      <td>17.0</td>\n",
       "      <td>52.0</td>\n",
       "      <td>3.0</td>\n",
       "      <td>17.0</td>\n",
       "      <td>104.0</td>\n",
       "      <td>5.0</td>\n",
       "      <td>1.0</td>\n",
       "      <td>1.0000</td>\n",
       "    </tr>\n",
       "  </tbody>\n",
       "</table>\n",
       "<p>357921 rows × 12 columns</p>\n",
       "</div>"
      ],
      "text/plain": [
       "          0     1     2    3     4     5    6     7      8    9   10       11\n",
       "0       7.0  21.0  30.0  2.0   3.0  30.0  2.0   3.0   59.0  7.0  2.0   0.0000\n",
       "1       7.0  32.0  70.0  2.0   4.0  68.0  2.0   4.0  134.0  7.0  2.0   0.0000\n",
       "2       7.0  15.0   1.0  2.0   2.0   0.0  2.0   2.0    0.0  7.0  2.0   0.0000\n",
       "3       7.0  33.0  77.0  2.0   7.0  73.0  2.0   7.0  144.0  7.0  2.0   0.0000\n",
       "4       7.0  55.0  78.0  3.0   7.0  74.0  3.0   7.0  146.0  8.0  2.0   0.0000\n",
       "...     ...   ...   ...  ...   ...   ...  ...   ...    ...  ...  ...      ...\n",
       "357916  7.0  32.0  70.0  2.0   4.0  69.0  3.0   4.0  138.0  5.0  1.0   1.0000\n",
       "357917  7.0  17.0  11.0  2.0  10.0  12.0  4.0  10.0   25.0  9.0  1.0  20.1772\n",
       "357918  7.0   2.0  75.0  0.0   7.0  72.0  0.0   7.0  142.0  2.0  1.0  10.0000\n",
       "357919  7.0  26.0  49.0  2.0  16.0  49.0  4.0  16.0   98.0  9.0  1.0  20.0950\n",
       "357920  7.0  27.0  53.0  2.0  17.0  52.0  3.0  17.0  104.0  5.0  1.0   1.0000\n",
       "\n",
       "[357921 rows x 12 columns]"
      ]
     },
     "execution_count": 13,
     "metadata": {},
     "output_type": "execute_result"
    }
   ],
   "source": [
    "data = pd.read_csv('df_next.csv')\n",
    "data = data.drop(columns=\"Unnamed: 0\")\n",
    "data.head(-20)"
   ]
  },
  {
   "cell_type": "code",
   "execution_count": 14,
   "metadata": {},
   "outputs": [
    {
     "name": "stdout",
     "output_type": "stream",
     "text": [
      "Shape_train: (239820, 11) \n",
      "Shape_test:  (118121, 11) \n",
      "Shape_y:     (357941, 8)\n"
     ]
    }
   ],
   "source": [
    "y = data.iloc[:,0].values\n",
    "y = label_binarize(y, classes=[0, 1, 2, 3, 4, 5, 6, 7])\n",
    "classes = y.shape[1]\n",
    "\n",
    "X = data.iloc[:,1:].values\n",
    "\n",
    "X_train, X_test, y_train, y_test = train_test_split(X,y, test_size=0.33)\n",
    "print(\"Shape_train:\", X_train.shape, \"\\n\"\n",
    "      \"Shape_test: \", X_test.shape, \"\\n\"\n",
    "      \"Shape_y:    \", y.shape)"
   ]
  },
  {
   "cell_type": "code",
   "execution_count": 15,
   "metadata": {},
   "outputs": [],
   "source": [
    "scaler = StandardScaler()\n",
    "clf = OneVsRestClassifier(LinearSVC())\n",
    "\n",
    "steps = [('normalizer', scaler),('classifier', clf)]\n",
    "pipe_svc_ = Pipeline(steps)"
   ]
  },
  {
   "cell_type": "code",
   "execution_count": 16,
   "metadata": {},
   "outputs": [],
   "source": [
    "pipe_svc = pipe_svc_.fit(X_train, y_train)\n",
    "\n",
    "y_pred_train = pipe_svc.predict(X_train)\n",
    "y_pred_test = pipe_svc.predict(X_test)\n",
    "y_score_svc = pipe_svc.decision_function(X_test)"
   ]
  },
  {
   "cell_type": "code",
   "execution_count": 17,
   "metadata": {},
   "outputs": [],
   "source": [
    "from sklearn.metrics import classification_report, confusion_matrix, accuracy_score\n",
    "from sklearn.metrics import matthews_corrcoef\n",
    "import numpy as np\n",
    "from scipy import interp\n",
    "import matplotlib.pyplot as plt\n",
    "from itertools import cycle\n",
    "import seaborn as sn\n",
    "import itertools"
   ]
  },
  {
   "cell_type": "code",
   "execution_count": 18,
   "metadata": {},
   "outputs": [
    {
     "name": "stdout",
     "output_type": "stream",
     "text": [
      "                     precision    recall  f1-score   support\n",
      "\n",
      "                DoS       0.96      0.66      0.78      3835\n",
      "       Data_probing       1.00      0.60      0.75       239\n",
      "  Malitious_control       0.95      0.92      0.93       605\n",
      "Malitious_operation       1.00      0.49      0.66       531\n",
      "               Scan       1.00      0.05      0.10      1001\n",
      "             Spying       0.00      0.00      0.00       337\n",
      "        Wrong_SetUp       1.00      1.00      1.00        79\n",
      "             Normal       0.98      1.00      0.99    233193\n",
      "\n",
      "          micro avg       0.98      0.99      0.98    239820\n",
      "          macro avg       0.86      0.59      0.65    239820\n",
      "       weighted avg       0.98      0.99      0.98    239820\n",
      "        samples avg       0.98      0.99      0.99    239820\n",
      "\n",
      "                     precision    recall  f1-score   support\n",
      "\n",
      "                DoS       0.96      0.64      0.77      1945\n",
      "       Data_probing       1.00      0.55      0.71       103\n",
      "  Malitious_control       0.95      0.92      0.94       284\n",
      "Malitious_operation       1.00      0.46      0.63       274\n",
      "               Scan       1.00      0.05      0.09       546\n",
      "             Spying       0.00      0.00      0.00       195\n",
      "        Wrong_SetUp       1.00      1.00      1.00        43\n",
      "             Normal       0.98      1.00      0.99    114731\n",
      "\n",
      "          micro avg       0.98      0.99      0.98    118121\n",
      "          macro avg       0.86      0.58      0.64    118121\n",
      "       weighted avg       0.98      0.99      0.98    118121\n",
      "        samples avg       0.98      0.99      0.98    118121\n",
      "\n"
     ]
    }
   ],
   "source": [
    "target_names = ['DoS', 'Data_probing', 'Malitious_control', 'Malitious_operation', 'Scan',\n",
    "                'Spying', 'Wrong_SetUp', 'Normal']\n",
    "print(classification_report(y_train, y_pred_train, target_names=target_names))\n",
    "print(classification_report(y_test, y_pred_test, target_names=target_names))"
   ]
  },
  {
   "cell_type": "markdown",
   "metadata": {},
   "source": [
    "##### Confusion matrix multiclass(SVM)"
   ]
  },
  {
   "cell_type": "code",
   "execution_count": 8,
   "metadata": {},
   "outputs": [],
   "source": [
    "confusion_m = confusion_matrix(y_test.argmax(axis=1), y_pred_test.argmax(axis=1))\n",
    "\n",
    "def confusion_matrix(confusion_m, classes,\n",
    "                          normalize=False,\n",
    "                          title=' ',\n",
    "                          cmap=plt.cm.BuPu):\n",
    "\n",
    "    if normalize:\n",
    "        confusion_m = confusion_m.astype('float') / confusion_m.sum(axis=1)[:, np.newaxis]\n",
    "        print(\"Confusion matrix (Normalized)\")\n",
    "    else:\n",
    "        print('Confusion matrix (without_normalization)')\n",
    "\n",
    "    print(confusion_m)\n",
    "\n",
    "    plt.imshow(confusion_m, interpolation='nearest', cmap=cmap)\n",
    "    plt.title(title)\n",
    "    tick_marks = np.arange(len(classes))\n",
    "    plt.xticks(tick_marks, classes, rotation=45)\n",
    "    plt.yticks(tick_marks, classes)\n",
    "\n",
    "    fmt = '.2f' if normalize else 'd'\n",
    "    thresh = confusion_m.max() / 2.\n",
    "    for i, j in itertools.product(range(confusion_m.shape[0]), range(confusion_m.shape[1])):\n",
    "        plt.text(j, i, format(confusion_m[i, j], fmt),\n",
    "                 horizontalalignment=\"center\",\n",
    "                 color=\"white\" if confusion_m[i, j] > thresh else \"black\")\n",
    "\n",
    "    plt.ylabel('True label')\n",
    "    plt.xlabel('Predicted label')\n",
    "    plt.tight_layout()"
   ]
  },
  {
   "cell_type": "code",
   "execution_count": 9,
   "metadata": {},
   "outputs": [
    {
     "name": "stdout",
     "output_type": "stream",
     "text": [
      "Confusion matrix (without_normalization)\n",
      "[[  1293      0      0      0      0      0      0    644]\n",
      " [     0     76      0      0      0      0      0     38]\n",
      " [     0      0    272      0      0      0      0     23]\n",
      " [    41      0      0     45      0      0      0    192]\n",
      " [     4      0     21      0     71      0      0    429]\n",
      " [     0      0      0      0      0      0      0    172]\n",
      " [     0      0      0      0      0      0     39      0]\n",
      " [   145      0      0      0      0      0      0 114616]]\n"
     ]
    },
    {
     "data": {
      "image/png": "[encoded data removed]",
      "text/plain": [
       "<Figure size 576x576 with 1 Axes>"
      ]
     },
     "metadata": {
      "needs_background": "light"
     },
     "output_type": "display_data"
    }
   ],
   "source": [
    "plt.figure(figsize = (8,8))\n",
    "sn.set(font_scale=1.1)\n",
    "\n",
    "confusion_matrix(confusion_m,['DoS', 'Data_p', 'Mal_c', 'Mal_o', 'Scan',\n",
    "                'Spying', 'W_SetUp', 'Normal'])\n",
    "plt.show()"
   ]
  },
  {
   "cell_type": "markdown",
   "metadata": {},
   "source": [
    "##### Matthews correlation coefficient (SVM)"
   ]
  },
  {
   "cell_type": "code",
   "execution_count": 10,
   "metadata": {},
   "outputs": [
    {
     "data": {
      "text/plain": [
       "0.6925112465957359"
      ]
     },
     "execution_count": 10,
     "metadata": {},
     "output_type": "execute_result"
    }
   ],
   "source": [
    "matthews_corrcoef(y_train.argmax(axis=1), y_pred_train.argmax(axis=1))"
   ]
  },
  {
   "cell_type": "code",
   "execution_count": 11,
   "metadata": {},
   "outputs": [
    {
     "data": {
      "text/plain": [
       "0.6999261166662967"
      ]
     },
     "execution_count": 11,
     "metadata": {},
     "output_type": "execute_result"
    }
   ],
   "source": [
    "matthews_corrcoef(y_test.argmax(axis=1), y_pred_test.argmax(axis=1))"
   ]
  }
 ],
 "metadata": {
  "kernelspec": {
   "display_name": "Python 3",
   "language": "python",
   "name": "python3"
  },
  "language_info": {
   "codemirror_mode": {
    "name": "ipython",
    "version": 3
   },
   "file_extension": ".py",
   "mimetype": "text/x-python",
   "name": "python",
   "nbconvert_exporter": "python",
   "pygments_lexer": "ipython3",
   "version": "3.7.4"
  }
 },
 "nbformat": 4,
 "nbformat_minor": 2
}
