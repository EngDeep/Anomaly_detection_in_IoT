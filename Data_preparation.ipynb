{
 "cells": [
  {
   "cell_type": "markdown",
   "metadata": {},
   "source": [
    "### Data preparation\n",
    "###### About file - mainSimulationAccessTraces:\n",
    "This datasets contains communications between different IoT nodes. All these nodes are part of a common middle-ware, the DS2OS. The communications in the following file are gathered from 3 different IoT sites.\n",
    "\n",
    "The nodes have an address (for example: /agent2/lightcontrol2) and are accessed by using it. They also have a type (for example: /lightControler) and a location (for example: BedroomParents).\n",
    "\n",
    "There are different type of operations that can be performed using an access (for example \"write\")."
   ]
  },
  {
   "cell_type": "code",
   "execution_count": 2,
   "metadata": {},
   "outputs": [],
   "source": [
    "import pandas as pd\n",
    "import numpy as np\n",
    "import matplotlib.pyplot as plt"
   ]
  },
  {
   "cell_type": "code",
   "execution_count": 3,
   "metadata": {},
   "outputs": [
    {
     "data": {
      "text/html": [
       "<div>\n",
       "<style scoped>\n",
       "    .dataframe tbody tr th:only-of-type {\n",
       "        vertical-align: middle;\n",
       "    }\n",
       "\n",
       "    .dataframe tbody tr th {\n",
       "        vertical-align: top;\n",
       "    }\n",
       "\n",
       "    .dataframe thead th {\n",
       "        text-align: right;\n",
       "    }\n",
       "</style>\n",
       "<table border=\"1\" class=\"dataframe\">\n",
       "  <thead>\n",
       "    <tr style=\"text-align: right;\">\n",
       "      <th></th>\n",
       "      <th>sourceID</th>\n",
       "      <th>sourceAddress</th>\n",
       "      <th>sourceType</th>\n",
       "      <th>sourceLocation</th>\n",
       "      <th>destinationServiceAddress</th>\n",
       "      <th>destinationServiceType</th>\n",
       "      <th>destinationLocation</th>\n",
       "      <th>accessedNodeAddress</th>\n",
       "      <th>accessedNodeType</th>\n",
       "      <th>operation</th>\n",
       "      <th>value</th>\n",
       "      <th>timestamp</th>\n",
       "      <th>normality</th>\n",
       "    </tr>\n",
       "  </thead>\n",
       "  <tbody>\n",
       "    <tr>\n",
       "      <td>0</td>\n",
       "      <td>lightcontrol2</td>\n",
       "      <td>/agent2/lightcontrol2</td>\n",
       "      <td>/lightControler</td>\n",
       "      <td>BedroomParents</td>\n",
       "      <td>/agent2/lightcontrol2</td>\n",
       "      <td>/lightControler</td>\n",
       "      <td>BedroomParents</td>\n",
       "      <td>/agent2/lightcontrol2</td>\n",
       "      <td>/lightControler</td>\n",
       "      <td>registerService</td>\n",
       "      <td>none</td>\n",
       "      <td>1520031600000</td>\n",
       "      <td>normal</td>\n",
       "    </tr>\n",
       "    <tr>\n",
       "      <td>1</td>\n",
       "      <td>lightcontrol3</td>\n",
       "      <td>/agent3/lightcontrol3</td>\n",
       "      <td>/lightControler</td>\n",
       "      <td>Dinningroom</td>\n",
       "      <td>/agent3/lightcontrol3</td>\n",
       "      <td>/lightControler</td>\n",
       "      <td>Dinningroom</td>\n",
       "      <td>/agent3/lightcontrol3</td>\n",
       "      <td>/lightControler</td>\n",
       "      <td>registerService</td>\n",
       "      <td>none</td>\n",
       "      <td>1520031603269</td>\n",
       "      <td>normal</td>\n",
       "    </tr>\n",
       "    <tr>\n",
       "      <td>2</td>\n",
       "      <td>lightcontrol1</td>\n",
       "      <td>/agent1/lightcontrol1</td>\n",
       "      <td>/lightControler</td>\n",
       "      <td>BedroomChildren</td>\n",
       "      <td>/agent1/lightcontrol1</td>\n",
       "      <td>/lightControler</td>\n",
       "      <td>BedroomChildren</td>\n",
       "      <td>/agent1/lightcontrol1</td>\n",
       "      <td>/lightControler</td>\n",
       "      <td>registerService</td>\n",
       "      <td>none</td>\n",
       "      <td>1520031603279</td>\n",
       "      <td>normal</td>\n",
       "    </tr>\n",
       "    <tr>\n",
       "      <td>3</td>\n",
       "      <td>lightcontrol4</td>\n",
       "      <td>/agent4/lightcontrol4</td>\n",
       "      <td>/lightControler</td>\n",
       "      <td>Kitchen</td>\n",
       "      <td>/agent4/lightcontrol4</td>\n",
       "      <td>/lightControler</td>\n",
       "      <td>Kitchen</td>\n",
       "      <td>/agent4/lightcontrol4</td>\n",
       "      <td>/lightControler</td>\n",
       "      <td>registerService</td>\n",
       "      <td>none</td>\n",
       "      <td>1520031603290</td>\n",
       "      <td>normal</td>\n",
       "    </tr>\n",
       "    <tr>\n",
       "      <td>4</td>\n",
       "      <td>movement4</td>\n",
       "      <td>/agent4/movement4</td>\n",
       "      <td>/movementSensor</td>\n",
       "      <td>Kitchen</td>\n",
       "      <td>/agent4/movement4</td>\n",
       "      <td>/movementSensor</td>\n",
       "      <td>Kitchen</td>\n",
       "      <td>/agent4/movement4</td>\n",
       "      <td>/movementSensor</td>\n",
       "      <td>registerService</td>\n",
       "      <td>none</td>\n",
       "      <td>1520031603464</td>\n",
       "      <td>normal</td>\n",
       "    </tr>\n",
       "  </tbody>\n",
       "</table>\n",
       "</div>"
      ],
      "text/plain": [
       "        sourceID          sourceAddress       sourceType   sourceLocation  \\\n",
       "0  lightcontrol2  /agent2/lightcontrol2  /lightControler   BedroomParents   \n",
       "1  lightcontrol3  /agent3/lightcontrol3  /lightControler      Dinningroom   \n",
       "2  lightcontrol1  /agent1/lightcontrol1  /lightControler  BedroomChildren   \n",
       "3  lightcontrol4  /agent4/lightcontrol4  /lightControler          Kitchen   \n",
       "4      movement4      /agent4/movement4  /movementSensor          Kitchen   \n",
       "\n",
       "  destinationServiceAddress destinationServiceType destinationLocation  \\\n",
       "0     /agent2/lightcontrol2        /lightControler      BedroomParents   \n",
       "1     /agent3/lightcontrol3        /lightControler         Dinningroom   \n",
       "2     /agent1/lightcontrol1        /lightControler     BedroomChildren   \n",
       "3     /agent4/lightcontrol4        /lightControler             Kitchen   \n",
       "4         /agent4/movement4        /movementSensor             Kitchen   \n",
       "\n",
       "     accessedNodeAddress accessedNodeType        operation value  \\\n",
       "0  /agent2/lightcontrol2  /lightControler  registerService  none   \n",
       "1  /agent3/lightcontrol3  /lightControler  registerService  none   \n",
       "2  /agent1/lightcontrol1  /lightControler  registerService  none   \n",
       "3  /agent4/lightcontrol4  /lightControler  registerService  none   \n",
       "4      /agent4/movement4  /movementSensor  registerService  none   \n",
       "\n",
       "       timestamp normality  \n",
       "0  1520031600000    normal  \n",
       "1  1520031603269    normal  \n",
       "2  1520031603279    normal  \n",
       "3  1520031603290    normal  \n",
       "4  1520031603464    normal  "
      ]
     },
     "execution_count": 3,
     "metadata": {},
     "output_type": "execute_result"
    }
   ],
   "source": [
    "df = pd.read_csv(\"mainSimulationAccessTraces.csv\") # Load the Dataset\n",
    "df.head(5) # Sample view of the dataset (first five rows)"
   ]
  },
  {
   "cell_type": "markdown",
   "metadata": {},
   "source": [
    "### Data Gaps\n",
    "##### Additional work required with 2 columns (since there are missing values in the dataset):\n",
    "- accessedNodeType\n",
    "- value"
   ]
  },
  {
   "cell_type": "code",
   "execution_count": 4,
   "metadata": {},
   "outputs": [
    {
     "name": "stdout",
     "output_type": "stream",
     "text": [
      "<class 'pandas.core.frame.DataFrame'>\n",
      "RangeIndex: 357952 entries, 0 to 357951\n",
      "Data columns (total 13 columns):\n",
      "sourceID                     357952 non-null object\n",
      "sourceAddress                357952 non-null object\n",
      "sourceType                   357952 non-null object\n",
      "sourceLocation               357952 non-null object\n",
      "destinationServiceAddress    357952 non-null object\n",
      "destinationServiceType       357952 non-null object\n",
      "destinationLocation          357952 non-null object\n",
      "accessedNodeAddress          357952 non-null object\n",
      "accessedNodeType             357804 non-null object\n",
      "operation                    357952 non-null object\n",
      "value                        355902 non-null object\n",
      "timestamp                    357952 non-null int64\n",
      "normality                    357952 non-null object\n",
      "dtypes: int64(1), object(12)\n",
      "memory usage: 35.5+ MB\n"
     ]
    }
   ],
   "source": [
    "df.info()"
   ]
  },
  {
   "cell_type": "markdown",
   "metadata": {},
   "source": [
    "#### Find out how many values we have in each column."
   ]
  },
  {
   "cell_type": "code",
   "execution_count": 5,
   "metadata": {},
   "outputs": [],
   "source": [
    "def missing_values_(df):\n",
    "        # Total Missed Values\n",
    "        missing_values = df.isnull().sum()\n",
    "        \n",
    "        # % missing values\n",
    "        percent_missing_values = 100 * df.isnull().sum() / len(df)\n",
    "        \n",
    "        table_missing_values = pd.concat([missing_values, percent_missing_values], axis=1)\n",
    "        \n",
    "        # Rename columns\n",
    "        mis_val_table_rename_columns = table_missing_values.rename(\n",
    "        columns = {0 : 'Missing Values', 1 : '% of Total Values'})\n",
    "        \n",
    "        # Sort table by percentage of missing\n",
    "        mis_val_table_rename_columns = mis_val_table_rename_columns[\n",
    "            mis_val_table_rename_columns.iloc[:,1] != 0].sort_values(\n",
    "        '% of Total Values', ascending=False).round(1)\n",
    "        \n",
    "        print (\"Dataframe has \" + str(df.shape[1]) + \" columns.\\n\"      \n",
    "            \"There are \" + str(mis_val_table_rename_columns.shape[0]) +\n",
    "              \" columns that have missing values.\")\n",
    "        \n",
    "        return mis_val_table_rename_columns"
   ]
  },
  {
   "cell_type": "code",
   "execution_count": 6,
   "metadata": {},
   "outputs": [
    {
     "name": "stdout",
     "output_type": "stream",
     "text": [
      "Dataframe has 13 columns.\n",
      "There are 2 columns that have missing values.\n"
     ]
    },
    {
     "data": {
      "text/html": [
       "<div>\n",
       "<style scoped>\n",
       "    .dataframe tbody tr th:only-of-type {\n",
       "        vertical-align: middle;\n",
       "    }\n",
       "\n",
       "    .dataframe tbody tr th {\n",
       "        vertical-align: top;\n",
       "    }\n",
       "\n",
       "    .dataframe thead th {\n",
       "        text-align: right;\n",
       "    }\n",
       "</style>\n",
       "<table border=\"1\" class=\"dataframe\">\n",
       "  <thead>\n",
       "    <tr style=\"text-align: right;\">\n",
       "      <th></th>\n",
       "      <th>Missing Values</th>\n",
       "      <th>% of Total Values</th>\n",
       "    </tr>\n",
       "  </thead>\n",
       "  <tbody>\n",
       "    <tr>\n",
       "      <td>value</td>\n",
       "      <td>2050</td>\n",
       "      <td>0.6</td>\n",
       "    </tr>\n",
       "    <tr>\n",
       "      <td>accessedNodeType</td>\n",
       "      <td>148</td>\n",
       "      <td>0.0</td>\n",
       "    </tr>\n",
       "  </tbody>\n",
       "</table>\n",
       "</div>"
      ],
      "text/plain": [
       "                  Missing Values  % of Total Values\n",
       "value                       2050                0.6\n",
       "accessedNodeType             148                0.0"
      ]
     },
     "execution_count": 6,
     "metadata": {},
     "output_type": "execute_result"
    }
   ],
   "source": [
    "missing_values_(df) "
   ]
  },
  {
   "cell_type": "code",
   "execution_count": 7,
   "metadata": {},
   "outputs": [],
   "source": [
    "df['accessedNodeType'] = df['accessedNodeType'].fillna(value='/Evil') # All missing values are classified as malicious traffic"
   ]
  },
  {
   "cell_type": "code",
   "execution_count": 8,
   "metadata": {},
   "outputs": [],
   "source": [
    "df.loc[df.value=='none',\"value\"] = '0'\n",
    "df.loc[df.value=='twenty',\"value\"] = '20.0'\n",
    "df.loc[df.value=='false',\"value\"] = '0'\n",
    "df.loc[df.value=='true',\"value\"] = '1'\n",
    "df.loc[df.value=='0',\"value\"] = '0.0'\n",
    "df['value'] = df['value'].fillna(value='60.0')\n",
    "\n",
    "df = df.drop(df.index[df.value.str.contains(\"org.*\")])\n",
    "df.value = df.value.astype(float)"
   ]
  },
  {
   "cell_type": "markdown",
   "metadata": {},
   "source": [
    "### Data visualization"
   ]
  },
  {
   "cell_type": "code",
   "execution_count": 9,
   "metadata": {},
   "outputs": [
    {
     "data": {
      "image/png": "[encoded data removed]",
      "text/plain": [
       "<Figure size 504x432 with 1 Axes>"
      ]
     },
     "metadata": {
      "needs_background": "light"
     },
     "output_type": "display_data"
    }
   ],
   "source": [
    "count_location = df.sourceLocation.value_counts()\n",
    "plt.figure(figsize=(7,6))\n",
    "ax=plt.subplot(111)\n",
    "plt.bar(count_location.index, count_location.values, color = '#d791e3')\n",
    "plt.grid(color = '#CDCDCD',\n",
    "         linewidth = 1, \n",
    "         linestyle = '--')\n",
    "\n",
    "plt.ylabel('Quantity', fontsize=14)\n",
    "plt.xlabel('Location', fontsize=14)\n",
    "plt.xticks(rotation=90,fontsize=10)\n",
    "plt.yticks(fontsize=10)\n",
    "\n",
    "plt.show()"
   ]
  },
  {
   "cell_type": "code",
   "execution_count": 10,
   "metadata": {},
   "outputs": [
    {
     "name": "stdout",
     "output_type": "stream",
     "text": [
      "Garage 39499\n",
      "Watterroom 38368\n",
      "Entrance 38217\n",
      "Bathroom 28461\n",
      "Showerroom 28315\n",
      "Kitchen 18962\n",
      "Dinningroom 13429\n",
      "BedroomChildren 12836\n",
      "room_6 11642\n",
      "Bedroom 11009\n",
      "BedroomParents 10946\n",
      "room_8 10798\n",
      "room_9 10752\n",
      "Livingroom 10620\n",
      "room_2 10606\n",
      "room_1 10601\n",
      "room_3 10597\n",
      "room_5 10596\n",
      "room_4 10572\n",
      "room_7 10558\n",
      "room_10 10557\n"
     ]
    }
   ],
   "source": [
    "for i,k in zip(count_location.index,count_location.values):\n",
    "    print(i,k)"
   ]
  },
  {
   "cell_type": "code",
   "execution_count": 11,
   "metadata": {},
   "outputs": [
    {
     "data": {
      "image/png": "[encoded data removed]",
      "text/plain": [
       "<Figure size 504x504 with 1 Axes>"
      ]
     },
     "metadata": {
      "needs_background": "light"
     },
     "output_type": "display_data"
    }
   ],
   "source": [
    "normality_count = df.normality.value_counts()\n",
    "indices = ['Normal', 'DoS', 'Scan', 'Malitious_control', 'Malitious_operation', 'Spying', 'Data_probing', 'Wrong_SetUp']\n",
    "plt.figure(figsize=(7,7))\n",
    "ax=plt.subplot(111)\n",
    "plt.grid()\n",
    "plt.barh(indices, normality_count.values, \n",
    "         color = '#68c4e8')\n",
    "plt.xlabel('Number', fontsize=14)\n",
    "plt.ylabel('Names of normal traffic and malicious attack ', fontsize=14)\n",
    "plt.xticks(rotation=90, fontsize=15)\n",
    "plt.yticks(fontsize=15)\n",
    "\n",
    "for i, v in enumerate(normality_count.values):\n",
    "    ax.text(v + 3, i + .03, str(v), color='black', fontweight='bold')\n",
    "plt.show()"
   ]
  },
  {
   "cell_type": "code",
   "execution_count": 12,
   "metadata": {},
   "outputs": [
    {
     "name": "stdout",
     "output_type": "stream",
     "text": [
      "Index(['normal', 'anomalous(DoSattack)', 'anomalous(scan)',\n",
      "       'anomalous(malitiousControl)', 'anomalous(malitiousOperation)',\n",
      "       'anomalous(spying)', 'anomalous(dataProbing)', 'anomalous(wrongSetUp)'],\n",
      "      dtype='object')\n",
      "[347924   5780   1547    889    805    532    342    122]\n"
     ]
    }
   ],
   "source": [
    "print(normality_count.index)\n",
    "print(normality_count.values)"
   ]
  },
  {
   "cell_type": "code",
   "execution_count": 13,
   "metadata": {},
   "outputs": [
    {
     "name": "stdout",
     "output_type": "stream",
     "text": [
      "normal 347924\n",
      "anomalous(DoSattack) 5780\n",
      "anomalous(scan) 1547\n",
      "anomalous(malitiousControl) 889\n",
      "anomalous(malitiousOperation) 805\n",
      "anomalous(spying) 532\n",
      "anomalous(dataProbing) 342\n",
      "anomalous(wrongSetUp) 122\n"
     ]
    }
   ],
   "source": [
    "for i,k in zip(normality_count.index,normality_count.values):\n",
    "    print(i,k)"
   ]
  },
  {
   "cell_type": "code",
   "execution_count": 14,
   "metadata": {},
   "outputs": [
    {
     "data": {
      "image/png": "[encoded data removed]",
      "text/plain": [
       "<Figure size 504x432 with 1 Axes>"
      ]
     },
     "metadata": {
      "needs_background": "light"
     },
     "output_type": "display_data"
    }
   ],
   "source": [
    "count_operation = df.operation.value_counts()\n",
    "plt.figure(figsize=(7,6))\n",
    "ax=plt.subplot(111)\n",
    "plt.bar(count_operation.index, count_operation.values, color = '#ada8ff')\n",
    "plt.grid(color = '#CDCDCD',\n",
    "         linewidth = 1, \n",
    "         linestyle = '--')\n",
    "\n",
    "plt.ylabel('Quantity', fontsize=14)\n",
    "plt.xlabel('Operation', fontsize=14)\n",
    "plt.xticks(rotation=90,fontsize=12)\n",
    "plt.yticks(fontsize=10)\n",
    "plt.show()"
   ]
  },
  {
   "cell_type": "code",
   "execution_count": 15,
   "metadata": {},
   "outputs": [
    {
     "data": {
      "text/plain": [
       "<matplotlib.legend.Legend at 0x2d8cb1cd388>"
      ]
     },
     "execution_count": 15,
     "metadata": {},
     "output_type": "execute_result"
    },
    {
     "data": {
      "image/png": "[encoded data removed]",
      "text/plain": [
       "<Figure size 700x500 with 1 Axes>"
      ]
     },
     "metadata": {},
     "output_type": "display_data"
    }
   ],
   "source": [
    "data_names = [\"/lightControler\",\n",
    "\"/sensorService\",\n",
    "\"/batteryService\",\n",
    "\"/washingService\",\n",
    "\"/thermostat\",\n",
    "\"/movementSensor\",\n",
    "\"/doorLockService\",\n",
    "\"/smartPhone\"]\n",
    "data_val = [135775,\n",
    "85196,\n",
    "81267,\n",
    "47986,\n",
    "5980,\n",
    "1301,\n",
    "330,\n",
    "106]\n",
    "\n",
    "total = sum(data_val)\n",
    "labels = [f\"{n} ({v/total:.1%})\" for n,v in zip(data_names, data_val)]\n",
    "\n",
    "dpi = 80\n",
    "fig = plt.figure(dpi = dpi, figsize = (700 / dpi, 500 / dpi) )\n",
    "\n",
    "\n",
    "plt.title('Source Type (%)')\n",
    "\n",
    "plt.pie(\n",
    "    data_val, radius=1.1,\n",
    "    explode=[0.15] + [0 for _ in range(len(data_names) - 1)] )\n",
    "plt.legend(\n",
    "    bbox_to_anchor = (-0.16, 0.45, 0.25, 0.25),\n",
    "    loc = 'best', labels = labels )"
   ]
  },
  {
   "cell_type": "code",
   "execution_count": 16,
   "metadata": {},
   "outputs": [
    {
     "name": "stdout",
     "output_type": "stream",
     "text": [
      "source_name Index(['/lightControler', '/sensorService', '/batteryService',\n",
      "       '/washingService', '/thermostat', '/movementSensor', '/doorLockService',\n",
      "       '/smartPhone'],\n",
      "      dtype='object')\n",
      "source_values [135775  85196  81267  47986   5980   1301    330    106]\n"
     ]
    }
   ],
   "source": [
    "source = df.sourceType.value_counts()\n",
    "\n",
    "print(\"source_name\", source.index)\n",
    "print(\"source_values\", source.values)"
   ]
  },
  {
   "cell_type": "code",
   "execution_count": 17,
   "metadata": {},
   "outputs": [
    {
     "data": {
      "text/html": [
       "<div>\n",
       "<style scoped>\n",
       "    .dataframe tbody tr th:only-of-type {\n",
       "        vertical-align: middle;\n",
       "    }\n",
       "\n",
       "    .dataframe tbody tr th {\n",
       "        vertical-align: top;\n",
       "    }\n",
       "\n",
       "    .dataframe thead th {\n",
       "        text-align: right;\n",
       "    }\n",
       "</style>\n",
       "<table border=\"1\" class=\"dataframe\">\n",
       "  <thead>\n",
       "    <tr style=\"text-align: right;\">\n",
       "      <th></th>\n",
       "      <th>sourceID</th>\n",
       "      <th>sourceAddress</th>\n",
       "      <th>sourceType</th>\n",
       "      <th>sourceLocation</th>\n",
       "      <th>destinationServiceAddress</th>\n",
       "      <th>destinationServiceType</th>\n",
       "      <th>destinationLocation</th>\n",
       "      <th>accessedNodeAddress</th>\n",
       "      <th>accessedNodeType</th>\n",
       "      <th>operation</th>\n",
       "      <th>value</th>\n",
       "      <th>normality</th>\n",
       "    </tr>\n",
       "  </thead>\n",
       "  <tbody>\n",
       "    <tr>\n",
       "      <td>0</td>\n",
       "      <td>lightcontrol2</td>\n",
       "      <td>/agent2/lightcontrol2</td>\n",
       "      <td>/lightControler</td>\n",
       "      <td>BedroomParents</td>\n",
       "      <td>/agent2/lightcontrol2</td>\n",
       "      <td>/lightControler</td>\n",
       "      <td>BedroomParents</td>\n",
       "      <td>/agent2/lightcontrol2</td>\n",
       "      <td>/lightControler</td>\n",
       "      <td>registerService</td>\n",
       "      <td>0.0</td>\n",
       "      <td>normal</td>\n",
       "    </tr>\n",
       "    <tr>\n",
       "      <td>1</td>\n",
       "      <td>lightcontrol3</td>\n",
       "      <td>/agent3/lightcontrol3</td>\n",
       "      <td>/lightControler</td>\n",
       "      <td>Dinningroom</td>\n",
       "      <td>/agent3/lightcontrol3</td>\n",
       "      <td>/lightControler</td>\n",
       "      <td>Dinningroom</td>\n",
       "      <td>/agent3/lightcontrol3</td>\n",
       "      <td>/lightControler</td>\n",
       "      <td>registerService</td>\n",
       "      <td>0.0</td>\n",
       "      <td>normal</td>\n",
       "    </tr>\n",
       "    <tr>\n",
       "      <td>2</td>\n",
       "      <td>lightcontrol1</td>\n",
       "      <td>/agent1/lightcontrol1</td>\n",
       "      <td>/lightControler</td>\n",
       "      <td>BedroomChildren</td>\n",
       "      <td>/agent1/lightcontrol1</td>\n",
       "      <td>/lightControler</td>\n",
       "      <td>BedroomChildren</td>\n",
       "      <td>/agent1/lightcontrol1</td>\n",
       "      <td>/lightControler</td>\n",
       "      <td>registerService</td>\n",
       "      <td>0.0</td>\n",
       "      <td>normal</td>\n",
       "    </tr>\n",
       "    <tr>\n",
       "      <td>3</td>\n",
       "      <td>lightcontrol4</td>\n",
       "      <td>/agent4/lightcontrol4</td>\n",
       "      <td>/lightControler</td>\n",
       "      <td>Kitchen</td>\n",
       "      <td>/agent4/lightcontrol4</td>\n",
       "      <td>/lightControler</td>\n",
       "      <td>Kitchen</td>\n",
       "      <td>/agent4/lightcontrol4</td>\n",
       "      <td>/lightControler</td>\n",
       "      <td>registerService</td>\n",
       "      <td>0.0</td>\n",
       "      <td>normal</td>\n",
       "    </tr>\n",
       "    <tr>\n",
       "      <td>4</td>\n",
       "      <td>movement4</td>\n",
       "      <td>/agent4/movement4</td>\n",
       "      <td>/movementSensor</td>\n",
       "      <td>Kitchen</td>\n",
       "      <td>/agent4/movement4</td>\n",
       "      <td>/movementSensor</td>\n",
       "      <td>Kitchen</td>\n",
       "      <td>/agent4/movement4</td>\n",
       "      <td>/movementSensor</td>\n",
       "      <td>registerService</td>\n",
       "      <td>0.0</td>\n",
       "      <td>normal</td>\n",
       "    </tr>\n",
       "  </tbody>\n",
       "</table>\n",
       "</div>"
      ],
      "text/plain": [
       "        sourceID          sourceAddress       sourceType   sourceLocation  \\\n",
       "0  lightcontrol2  /agent2/lightcontrol2  /lightControler   BedroomParents   \n",
       "1  lightcontrol3  /agent3/lightcontrol3  /lightControler      Dinningroom   \n",
       "2  lightcontrol1  /agent1/lightcontrol1  /lightControler  BedroomChildren   \n",
       "3  lightcontrol4  /agent4/lightcontrol4  /lightControler          Kitchen   \n",
       "4      movement4      /agent4/movement4  /movementSensor          Kitchen   \n",
       "\n",
       "  destinationServiceAddress destinationServiceType destinationLocation  \\\n",
       "0     /agent2/lightcontrol2        /lightControler      BedroomParents   \n",
       "1     /agent3/lightcontrol3        /lightControler         Dinningroom   \n",
       "2     /agent1/lightcontrol1        /lightControler     BedroomChildren   \n",
       "3     /agent4/lightcontrol4        /lightControler             Kitchen   \n",
       "4         /agent4/movement4        /movementSensor             Kitchen   \n",
       "\n",
       "     accessedNodeAddress accessedNodeType        operation  value normality  \n",
       "0  /agent2/lightcontrol2  /lightControler  registerService    0.0    normal  \n",
       "1  /agent3/lightcontrol3  /lightControler  registerService    0.0    normal  \n",
       "2  /agent1/lightcontrol1  /lightControler  registerService    0.0    normal  \n",
       "3  /agent4/lightcontrol4  /lightControler  registerService    0.0    normal  \n",
       "4      /agent4/movement4  /movementSensor  registerService    0.0    normal  "
      ]
     },
     "execution_count": 17,
     "metadata": {},
     "output_type": "execute_result"
    }
   ],
   "source": [
    "df_X = df.drop('timestamp',axis=1)\n",
    "df_X.head()"
   ]
  },
  {
   "cell_type": "markdown",
   "metadata": {},
   "source": [
    "### LabelEncoder & OneHotEncoder"
   ]
  },
  {
   "cell_type": "code",
   "execution_count": 18,
   "metadata": {},
   "outputs": [],
   "source": [
    "from sklearn.preprocessing import LabelEncoder\n",
    "from sklearn.preprocessing import OneHotEncoder\n",
    "\n",
    "\n",
    "labelencoder_column_0 = LabelEncoder()\n",
    "labelencoder_column_1 = LabelEncoder()\n",
    "labelencoder_column_4 = LabelEncoder()\n",
    "labelencoder_column_7 = LabelEncoder()\n",
    "labelencoder_y = LabelEncoder()\n",
    "\n",
    "X_column_0 = df_X.iloc[:,0].values\n",
    "X0 = labelencoder_column_0.fit_transform(X_column_0)\n",
    "X0 = X0.reshape(len(X_column_0),1)\n",
    "\n",
    "\n",
    "X_column_1 = df_X.iloc[:,1].values\n",
    "X1 = labelencoder_column_1.fit_transform(X_column_1)\n",
    "X1 = X1.reshape(len(X_column_1),1)\n",
    "\n",
    "X_column_4 = df_X.iloc[:,4].values\n",
    "X4 = labelencoder_column_4.fit_transform(X_column_4)\n",
    "X4 = X4.reshape(len(X_column_4),1)\n",
    "\n",
    "X_column_7 = df_X.iloc[:,7].values\n",
    "X7 = labelencoder_column_7.fit_transform(X_column_7)\n",
    "X7 = X7.reshape(len(X_column_7),1)\n",
    "\n",
    "y = df_X.iloc[:,11].values\n",
    "y = labelencoder_y.fit_transform(y)"
   ]
  },
  {
   "cell_type": "code",
   "execution_count": 19,
   "metadata": {},
   "outputs": [
    {
     "data": {
      "text/plain": [
       "array([[21.    , 30.    ,  2.    , ...,  7.    ,  2.    ,  0.    ],\n",
       "       [32.    , 70.    ,  2.    , ...,  7.    ,  2.    ,  0.    ],\n",
       "       [15.    ,  1.    ,  2.    , ...,  7.    ,  2.    ,  0.    ],\n",
       "       ...,\n",
       "       [82.    , 14.    ,  7.    , ...,  3.    ,  1.    ,  1.    ],\n",
       "       [30.    , 62.    ,  2.    , ...,  5.    ,  1.    ,  0.    ],\n",
       "       [30.    , 62.    ,  2.    , ...,  9.    ,  1.    , 20.4131]])"
      ]
     },
     "execution_count": 19,
     "metadata": {},
     "output_type": "execute_result"
    }
   ],
   "source": [
    "enc_column_2 = OneHotEncoder()\n",
    "enc_column_3 = OneHotEncoder()\n",
    "enc_column_5 = OneHotEncoder()\n",
    "enc_column_6 = OneHotEncoder()\n",
    "enc_column_8 = OneHotEncoder()\n",
    "enc_column_9 = OneHotEncoder()\n",
    "label_2 = LabelEncoder()\n",
    "label_3 = LabelEncoder()\n",
    "label_5 = LabelEncoder()\n",
    "label_6 = LabelEncoder()\n",
    "label_8 = LabelEncoder()\n",
    "label_9 = LabelEncoder()\n",
    "\n",
    "X2 = df_X.iloc[:,2].values\n",
    "X3 = df_X.iloc[:,3].values\n",
    "X5 = df_X.iloc[:,5].values\n",
    "X6 = df_X.iloc[:,6].values\n",
    "X8 = df_X.iloc[:,8].values\n",
    "X9 = df_X.iloc[:,9].values\n",
    "X10 = df_X.iloc[:,10].values\n",
    "\n",
    "X2 = label_2.fit_transform(X2)\n",
    "X2 = X2.reshape(len(X2),1)\n",
    "X3 = label_3.fit_transform(X3)\n",
    "X3 = X3.reshape(len(X3),1)\n",
    "X5 = label_5.fit_transform(X5)\n",
    "X5 = X5.reshape(len(X5),1)\n",
    "X6 = label_6.fit_transform(X6)\n",
    "X6 = X6.reshape(len(X6),1)\n",
    "X8 = label_8.fit_transform(X8)\n",
    "X8 = X8.reshape(len(X8),1)\n",
    "X9 = label_9.fit_transform(X9)\n",
    "X9 = X9.reshape(len(X9),1)\n",
    "X10 = X10.reshape(len(X10),1)\n",
    "\n",
    "X = np.concatenate((X0,X1,X2,X3,X4,X5,X6,X7,X8,X9,X10),axis=1)\n",
    "X"
   ]
  },
  {
   "cell_type": "code",
   "execution_count": 20,
   "metadata": {},
   "outputs": [
    {
     "data": {
      "text/plain": [
       "array(['anomalous(DoSattack)', 'anomalous(dataProbing)',\n",
       "       'anomalous(malitiousControl)', 'anomalous(malitiousOperation)',\n",
       "       'anomalous(scan)', 'anomalous(spying)', 'anomalous(wrongSetUp)',\n",
       "       'normal'], dtype=object)"
      ]
     },
     "execution_count": 20,
     "metadata": {},
     "output_type": "execute_result"
    }
   ],
   "source": [
    "labelencoder_y.classes_"
   ]
  },
  {
   "cell_type": "code",
   "execution_count": 21,
   "metadata": {},
   "outputs": [],
   "source": [
    "y2 = y.reshape(len(y),1)\n",
    "data = np.concatenate((y2,X),axis=1)\n",
    "df_data = pd.DataFrame(data)\n",
    "df_data.to_csv('df_next.csv')"
   ]
  }
 ],
 "metadata": {
  "kernelspec": {
   "display_name": "Python 3",
   "language": "python",
   "name": "python3"
  },
  "language_info": {
   "codemirror_mode": {
    "name": "ipython",
    "version": 3
   },
   "file_extension": ".py",
   "mimetype": "text/x-python",
   "name": "python",
   "nbconvert_exporter": "python",
   "pygments_lexer": "ipython3",
   "version": "3.7.4"
  }
 },
 "nbformat": 4,
 "nbformat_minor": 2
}
